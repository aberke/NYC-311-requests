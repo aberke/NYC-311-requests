{
 "cells": [
  {
   "cell_type": "code",
   "execution_count": 1,
   "metadata": {
    "collapsed": true,
    "deletable": true,
    "editable": true
   },
   "outputs": [],
   "source": [
    "%load_ext autoreload\n",
    "%autoreload 2"
   ]
  },
  {
   "cell_type": "code",
   "execution_count": 2,
   "metadata": {
    "collapsed": true
   },
   "outputs": [],
   "source": [
    "%matplotlib inline"
   ]
  },
  {
   "cell_type": "code",
   "execution_count": 3,
   "metadata": {
    "collapsed": false,
    "deletable": true,
    "editable": true
   },
   "outputs": [
    {
     "name": "stderr",
     "output_type": "stream",
     "text": [
      "WARNING:root:Requests made without an app_token will be subject to strict throttling limits.\n"
     ]
    }
   ],
   "source": [
    "import matplotlib.pyplot as plt\n",
    "import pandas as pd\n",
    "\n",
    "import constants\n",
    "import data_api"
   ]
  },
  {
   "cell_type": "code",
   "execution_count": 6,
   "metadata": {
    "collapsed": false,
    "deletable": true,
    "editable": true
   },
   "outputs": [],
   "source": [
    "df = data_api.load_data()"
   ]
  },
  {
   "cell_type": "code",
   "execution_count": 7,
   "metadata": {
    "collapsed": false,
    "deletable": true,
    "editable": true
   },
   "outputs": [
    {
     "data": {
      "text/html": [
       "<div>\n",
       "<table border=\"1\" class=\"dataframe\">\n",
       "  <thead>\n",
       "    <tr style=\"text-align: right;\">\n",
       "      <th></th>\n",
       "      <th>address_type</th>\n",
       "      <th>agency</th>\n",
       "      <th>agency_name</th>\n",
       "      <th>borough</th>\n",
       "      <th>bridge_highway_segment</th>\n",
       "      <th>city</th>\n",
       "      <th>closed_date</th>\n",
       "      <th>community_board</th>\n",
       "      <th>complaint_type</th>\n",
       "      <th>created_date</th>\n",
       "      <th>...</th>\n",
       "      <th>school_number</th>\n",
       "      <th>school_phone_number</th>\n",
       "      <th>school_region</th>\n",
       "      <th>school_state</th>\n",
       "      <th>school_zip</th>\n",
       "      <th>status</th>\n",
       "      <th>street_name</th>\n",
       "      <th>unique_key</th>\n",
       "      <th>x_coordinate_state_plane</th>\n",
       "      <th>y_coordinate_state_plane</th>\n",
       "    </tr>\n",
       "  </thead>\n",
       "  <tbody>\n",
       "    <tr>\n",
       "      <th>0</th>\n",
       "      <td>NaN</td>\n",
       "      <td>DPR</td>\n",
       "      <td>Department of Parks and Recreation</td>\n",
       "      <td>BRONX</td>\n",
       "      <td>NaN</td>\n",
       "      <td>BRONX</td>\n",
       "      <td>NaT</td>\n",
       "      <td>07 BRONX</td>\n",
       "      <td>Maintenance or Facility</td>\n",
       "      <td>2017-04-12 00:00:18</td>\n",
       "      <td>...</td>\n",
       "      <td>X013</td>\n",
       "      <td>7184301800</td>\n",
       "      <td>NaN</td>\n",
       "      <td>NY</td>\n",
       "      <td>10468</td>\n",
       "      <td>Open</td>\n",
       "      <td>NaN</td>\n",
       "      <td>35926527</td>\n",
       "      <td>NaN</td>\n",
       "      <td>NaN</td>\n",
       "    </tr>\n",
       "    <tr>\n",
       "      <th>1</th>\n",
       "      <td>ADDRESS</td>\n",
       "      <td>NYPD</td>\n",
       "      <td>New York City Police Department</td>\n",
       "      <td>MANHATTAN</td>\n",
       "      <td>NaN</td>\n",
       "      <td>NEW YORK</td>\n",
       "      <td>NaT</td>\n",
       "      <td>04 MANHATTAN</td>\n",
       "      <td>Noise - Residential</td>\n",
       "      <td>2017-04-12 00:00:18</td>\n",
       "      <td>...</td>\n",
       "      <td>Unspecified</td>\n",
       "      <td>Unspecified</td>\n",
       "      <td>Unspecified</td>\n",
       "      <td>Unspecified</td>\n",
       "      <td>Unspecified</td>\n",
       "      <td>Open</td>\n",
       "      <td>WEST 46 STREET</td>\n",
       "      <td>35923369</td>\n",
       "      <td>987400.0</td>\n",
       "      <td>216201.0</td>\n",
       "    </tr>\n",
       "    <tr>\n",
       "      <th>2</th>\n",
       "      <td>ADDRESS</td>\n",
       "      <td>NYPD</td>\n",
       "      <td>New York City Police Department</td>\n",
       "      <td>BROOKLYN</td>\n",
       "      <td>NaN</td>\n",
       "      <td>BROOKLYN</td>\n",
       "      <td>2017-04-12 01:30:52</td>\n",
       "      <td>12 BROOKLYN</td>\n",
       "      <td>Noise - Residential</td>\n",
       "      <td>2017-04-12 00:00:33</td>\n",
       "      <td>...</td>\n",
       "      <td>Unspecified</td>\n",
       "      <td>Unspecified</td>\n",
       "      <td>Unspecified</td>\n",
       "      <td>Unspecified</td>\n",
       "      <td>Unspecified</td>\n",
       "      <td>Closed</td>\n",
       "      <td>58 STREET</td>\n",
       "      <td>35921287</td>\n",
       "      <td>982765.0</td>\n",
       "      <td>170559.0</td>\n",
       "    </tr>\n",
       "    <tr>\n",
       "      <th>3</th>\n",
       "      <td>ADDRESS</td>\n",
       "      <td>NYPD</td>\n",
       "      <td>New York City Police Department</td>\n",
       "      <td>MANHATTAN</td>\n",
       "      <td>NaN</td>\n",
       "      <td>NEW YORK</td>\n",
       "      <td>NaT</td>\n",
       "      <td>09 MANHATTAN</td>\n",
       "      <td>Noise - Street/Sidewalk</td>\n",
       "      <td>2017-04-12 00:00:45</td>\n",
       "      <td>...</td>\n",
       "      <td>Unspecified</td>\n",
       "      <td>Unspecified</td>\n",
       "      <td>Unspecified</td>\n",
       "      <td>Unspecified</td>\n",
       "      <td>Unspecified</td>\n",
       "      <td>Assigned</td>\n",
       "      <td>WEST 141 STREET</td>\n",
       "      <td>35925662</td>\n",
       "      <td>997333.0</td>\n",
       "      <td>239507.0</td>\n",
       "    </tr>\n",
       "    <tr>\n",
       "      <th>4</th>\n",
       "      <td>ADDRESS</td>\n",
       "      <td>NYPD</td>\n",
       "      <td>New York City Police Department</td>\n",
       "      <td>BRONX</td>\n",
       "      <td>NaN</td>\n",
       "      <td>BRONX</td>\n",
       "      <td>NaT</td>\n",
       "      <td>01 BRONX</td>\n",
       "      <td>Noise - Street/Sidewalk</td>\n",
       "      <td>2017-04-12 00:01:23</td>\n",
       "      <td>...</td>\n",
       "      <td>Unspecified</td>\n",
       "      <td>Unspecified</td>\n",
       "      <td>Unspecified</td>\n",
       "      <td>Unspecified</td>\n",
       "      <td>Unspecified</td>\n",
       "      <td>Open</td>\n",
       "      <td>PROSPECT AVENUE</td>\n",
       "      <td>35925657</td>\n",
       "      <td>1010938.0</td>\n",
       "      <td>236138.0</td>\n",
       "    </tr>\n",
       "  </tbody>\n",
       "</table>\n",
       "<p>5 rows × 42 columns</p>\n",
       "</div>"
      ],
      "text/plain": [
       "  address_type agency                         agency_name    borough  \\\n",
       "0          NaN    DPR  Department of Parks and Recreation      BRONX   \n",
       "1      ADDRESS   NYPD     New York City Police Department  MANHATTAN   \n",
       "2      ADDRESS   NYPD     New York City Police Department   BROOKLYN   \n",
       "3      ADDRESS   NYPD     New York City Police Department  MANHATTAN   \n",
       "4      ADDRESS   NYPD     New York City Police Department      BRONX   \n",
       "\n",
       "  bridge_highway_segment      city         closed_date community_board  \\\n",
       "0                    NaN     BRONX                 NaT        07 BRONX   \n",
       "1                    NaN  NEW YORK                 NaT    04 MANHATTAN   \n",
       "2                    NaN  BROOKLYN 2017-04-12 01:30:52     12 BROOKLYN   \n",
       "3                    NaN  NEW YORK                 NaT    09 MANHATTAN   \n",
       "4                    NaN     BRONX                 NaT        01 BRONX   \n",
       "\n",
       "            complaint_type        created_date            ...             \\\n",
       "0  Maintenance or Facility 2017-04-12 00:00:18            ...              \n",
       "1      Noise - Residential 2017-04-12 00:00:18            ...              \n",
       "2      Noise - Residential 2017-04-12 00:00:33            ...              \n",
       "3  Noise - Street/Sidewalk 2017-04-12 00:00:45            ...              \n",
       "4  Noise - Street/Sidewalk 2017-04-12 00:01:23            ...              \n",
       "\n",
       "  school_number school_phone_number school_region school_state   school_zip  \\\n",
       "0          X013          7184301800           NaN           NY        10468   \n",
       "1   Unspecified         Unspecified   Unspecified  Unspecified  Unspecified   \n",
       "2   Unspecified         Unspecified   Unspecified  Unspecified  Unspecified   \n",
       "3   Unspecified         Unspecified   Unspecified  Unspecified  Unspecified   \n",
       "4   Unspecified         Unspecified   Unspecified  Unspecified  Unspecified   \n",
       "\n",
       "     status      street_name unique_key x_coordinate_state_plane  \\\n",
       "0      Open              NaN   35926527                      NaN   \n",
       "1      Open   WEST 46 STREET   35923369                 987400.0   \n",
       "2    Closed        58 STREET   35921287                 982765.0   \n",
       "3  Assigned  WEST 141 STREET   35925662                 997333.0   \n",
       "4      Open  PROSPECT AVENUE   35925657                1010938.0   \n",
       "\n",
       "   y_coordinate_state_plane  \n",
       "0                       NaN  \n",
       "1                  216201.0  \n",
       "2                  170559.0  \n",
       "3                  239507.0  \n",
       "4                  236138.0  \n",
       "\n",
       "[5 rows x 42 columns]"
      ]
     },
     "execution_count": 7,
     "metadata": {},
     "output_type": "execute_result"
    }
   ],
   "source": [
    "# date_fields = ['closed_date', 'created_date', 'due_date']\n",
    "# df_orig = pd.read_csv('data/2017.csv', index_col=0, parse_dates=date_fields)\n",
    "# df = df_orig\n",
    "df.head()"
   ]
  },
  {
   "cell_type": "code",
   "execution_count": null,
   "metadata": {
    "collapsed": false,
    "deletable": true,
    "editable": true
   },
   "outputs": [],
   "source": [
    "df_orig.incident_zip.describe()"
   ]
  },
  {
   "cell_type": "code",
   "execution_count": null,
   "metadata": {
    "collapsed": false,
    "deletable": true,
    "editable": true
   },
   "outputs": [],
   "source": [
    "agency_dummies = pd.get_dummies(df[constants.AGENCY])\n",
    "# agency_dummies.head()\n",
    "df = pd.concat([df, agency_dummies], axis=1)\n",
    "df.head()"
   ]
  },
  {
   "cell_type": "code",
   "execution_count": null,
   "metadata": {
    "collapsed": false,
    "deletable": true,
    "editable": true,
    "scrolled": false
   },
   "outputs": [],
   "source": [
    "# Rules\n",
    "# xxxxx-xxxx --> int(xxxxx)\n",
    "# strings --> null\n",
    "# Float --> int\n",
    "# fill left with 0's to len=5\n",
    "def clean_zips(zip):\n",
    "    zip = str(zip).replace('.0', '')[:5]\n",
    "    try:\n",
    "        zip = int(zip)\n",
    "    except ValueError:\n",
    "        return None\n",
    "    return '{:05}'.format(zip)\n",
    "    \n",
    "df['incident_zip'] = df.incident_zip.apply(clean_zips)\n",
    "\n",
    "# for zip in df.incident_zip.unique():\n",
    "#     print(zip)"
   ]
  },
  {
   "cell_type": "code",
   "execution_count": null,
   "metadata": {
    "collapsed": false,
    "deletable": true,
    "editable": true
   },
   "outputs": [],
   "source": [
    "pd.get_dummies(df['incident_zip'].astype(str), prefix='zip').head()"
   ]
  },
  {
   "cell_type": "code",
   "execution_count": null,
   "metadata": {
    "collapsed": false,
    "deletable": true,
    "editable": true
   },
   "outputs": [],
   "source": [
    "zip_dummies = pd.get_dummies(df['incident_zip'], prefix='zip')\n",
    "df = pd.concat([df, zip_dummies], axis=1)\n",
    "df.head()"
   ]
  },
  {
   "cell_type": "code",
   "execution_count": null,
   "metadata": {
    "collapsed": false
   },
   "outputs": [],
   "source": [
    "# Generate dummies for time of day\n",
    "df['created_hr_of_day'] = df['created_date'].dt.hour\n",
    "hour_of_day_dummies = pd.get_dummies(df['created_hr_of_day'])\n",
    "df = pd.concat([df, hour_of_day_dummies], axis=1)\n",
    "df.head()"
   ]
  },
  {
   "cell_type": "code",
   "execution_count": null,
   "metadata": {
    "collapsed": false,
    "deletable": true,
    "editable": true
   },
   "outputs": [],
   "source": [
    "# Generate dummies for created_date - weekday_name\n",
    "df['created_day_of_week'] = df['created_date'].dt.weekday_name\n",
    "day_of_week_dummies = pd.get_dummies(df['created_day_of_week'])\n",
    "df = pd.concat([df, day_of_week_dummies], axis=1)\n",
    "df.head()"
   ]
  },
  {
   "cell_type": "code",
   "execution_count": null,
   "metadata": {
    "collapsed": false,
    "deletable": true,
    "editable": true
   },
   "outputs": [],
   "source": [
    "# Generate dummies for created_date - month\n",
    "df['created_month'] = df['created_date'].dt.month\n",
    "month_dummies = pd.get_dummies(df['created_month'], prefix='month')\n",
    "df = pd.concat([df, month_dummies], axis=1)\n",
    "df.head()"
   ]
  },
  {
   "cell_type": "code",
   "execution_count": null,
   "metadata": {
    "collapsed": false,
    "deletable": true,
    "editable": true
   },
   "outputs": [],
   "source": [
    "# Generate dummies for complaint_type\n",
    "complaint_type_dummies = pd.get_dummies(df['complaint_type'], prefix='complaint_type')\n",
    "df = pd.concat([df, complaint_type_dummies], axis=1)\n",
    "df.head()"
   ]
  },
  {
   "cell_type": "code",
   "execution_count": null,
   "metadata": {
    "collapsed": false,
    "deletable": true,
    "editable": true
   },
   "outputs": [],
   "source": [
    "# Generate dummies for community_board\n",
    "community_board_dummies = pd.get_dummies(df['community_board'], prefix='community_board')\n",
    "df = pd.concat([df, community_board_dummies], axis=1)\n",
    "df.head()"
   ]
  },
  {
   "cell_type": "code",
   "execution_count": null,
   "metadata": {
    "collapsed": false,
    "deletable": true,
    "editable": true
   },
   "outputs": [],
   "source": [
    "# Drop NA for closed_date\n",
    "df.dropna(subset=['closed_date'], inplace=True)"
   ]
  },
  {
   "cell_type": "code",
   "execution_count": null,
   "metadata": {
    "collapsed": true
   },
   "outputs": [],
   "source": [
    "df = df.drop(df[df.closed_date - df.created_date < pd.Timedelta(0)].index)"
   ]
  },
  {
   "cell_type": "code",
   "execution_count": null,
   "metadata": {
    "collapsed": false
   },
   "outputs": [],
   "source": [
    "target_hours = (df.closed_date - df.created_date) / pd.Timedelta(hours=1)\n",
    "target_hours.head()"
   ]
  },
  {
   "cell_type": "code",
   "execution_count": null,
   "metadata": {
    "collapsed": false
   },
   "outputs": [],
   "source": [
    "bin_mapping = {\n",
    "    1: '< 1 hr',\n",
    "    3: '1-3 hrs',\n",
    "    6: '3-6 hrs',\n",
    "    12: '6-12 hrs',\n",
    "    24: '12-24 hrs', \n",
    "    36: '24-36 hrs',\n",
    "    48: '36-48 hrs',\n",
    "    7*24: '2-7 days',\n",
    "    28*24: '1-4 weeks',\n",
    "    100000: '> 1 month',\n",
    "}\n",
    "bins = [0] + list(bin_mapping.keys())\n",
    "labels = list(bin_mapping.values())\n",
    "target_categorized = pd.cut(target_hours, bins=bins, labels=labels)"
   ]
  },
  {
   "cell_type": "code",
   "execution_count": null,
   "metadata": {
    "collapsed": true
   },
   "outputs": [],
   "source": [
    "target = target_categorized"
   ]
  },
  {
   "cell_type": "code",
   "execution_count": null,
   "metadata": {
    "collapsed": false
   },
   "outputs": [],
   "source": [
    "target.value_counts()"
   ]
  },
  {
   "cell_type": "code",
   "execution_count": null,
   "metadata": {
    "collapsed": true
   },
   "outputs": [],
   "source": [
    "pd.set_option('display.max_columns', 1000)\n",
    "# pd.set_option('display.max_columns', 30)"
   ]
  },
  {
   "cell_type": "code",
   "execution_count": null,
   "metadata": {
    "collapsed": true
   },
   "outputs": [],
   "source": [
    "df[target / pd.Timedelta(minutes=1) < 2].complaint_type.value_counts()"
   ]
  },
  {
   "cell_type": "code",
   "execution_count": null,
   "metadata": {
    "collapsed": true
   },
   "outputs": [],
   "source": [
    "# df[target / pd.Timedelta(minutes=1) < 2][df.complaint_type == 'Street Light Condition'].resolution_description.value_counts()\n",
    "df[target / pd.Timedelta(minutes=1) > -1][df.complaint_type == 'Adopt-A-Basket'].resolution_description.value_counts()"
   ]
  },
  {
   "cell_type": "code",
   "execution_count": null,
   "metadata": {
    "collapsed": true
   },
   "outputs": [],
   "source": [
    "# < 1, 1-3, 3-6, 6-12, 0.5, 1, 1.5, 2, 3, 7, 30+\n"
   ]
  },
  {
   "cell_type": "code",
   "execution_count": null,
   "metadata": {
    "collapsed": false,
    "scrolled": false
   },
   "outputs": [],
   "source": [
    "# (target / pd.Timedelta(days=1)).hist(bins=range(0, 100))\n",
    "# (target / pd.Timedelta(hours=1)).hist(bins=range(240, 1000, 24))\n",
    "(target / pd.Timedelta(hours=1)).hist(bins=[0, 1, 3, 6, 12, 24, 36, 48, 72, 168, 720])"
   ]
  },
  {
   "cell_type": "code",
   "execution_count": null,
   "metadata": {
    "collapsed": false
   },
   "outputs": [],
   "source": [
    "target.describe()"
   ]
  },
  {
   "cell_type": "code",
   "execution_count": null,
   "metadata": {
    "collapsed": false
   },
   "outputs": [],
   "source": [
    "df.drop('closed_date', axis=1, inplace=True)"
   ]
  },
  {
   "cell_type": "code",
   "execution_count": null,
   "metadata": {
    "collapsed": false,
    "deletable": true,
    "editable": true
   },
   "outputs": [],
   "source": [
    "# pd.set_option('display.max_columns', 1000)\n",
    "# df.loc[df['complaint_type'] == 'Harboring Bees/Wasps']\n",
    "# pd.set_option('display.max_columns', 30)"
   ]
  },
  {
   "cell_type": "code",
   "execution_count": null,
   "metadata": {
    "collapsed": false,
    "deletable": true,
    "editable": true,
    "scrolled": true
   },
   "outputs": [],
   "source": [
    "df.info(verbose=True)\n",
    "# df.info(ver)"
   ]
  },
  {
   "cell_type": "code",
   "execution_count": 21,
   "metadata": {
    "collapsed": false,
    "deletable": true,
    "editable": true
   },
   "outputs": [
    {
     "name": "stderr",
     "output_type": "stream",
     "text": [
      "WARNING:root:Requests made without an app_token will be subject to strict throttling limits.\n"
     ]
    }
   ],
   "source": [
    "import data_api\n",
    "import transformers\n",
    "from datetime import datetime"
   ]
  },
  {
   "cell_type": "code",
   "execution_count": null,
   "metadata": {
    "collapsed": false
   },
   "outputs": [],
   "source": [
    "df_file_path = data_api.load_recent_data()"
   ]
  },
  {
   "cell_type": "code",
   "execution_count": 54,
   "metadata": {
    "collapsed": false
   },
   "outputs": [
    {
     "name": "stdout",
     "output_type": "stream",
     "text": [
      "data/2017-01-01-2017-04-13.csv\n"
     ]
    }
   ],
   "source": [
    "print(df_file_path)"
   ]
  },
  {
   "cell_type": "code",
   "execution_count": 55,
   "metadata": {
    "collapsed": false
   },
   "outputs": [
    {
     "name": "stderr",
     "output_type": "stream",
     "text": [
      "/Users/Alexandra/anaconda3/lib/python3.6/site-packages/IPython/core/interactiveshell.py:2821: DtypeWarning: Columns (18,20,22,25,50) have mixed types. Specify dtype option on import or set low_memory=False.\n",
      "  if self.run_code(code, result):\n"
     ]
    }
   ],
   "source": [
    "\n",
    "df = data_api.load_data(filepath=df_file_path)\n",
    "df.info()"
   ]
  },
  {
   "cell_type": "code",
   "execution_count": 56,
   "metadata": {
    "collapsed": false
   },
   "outputs": [
    {
     "name": "stdout",
     "output_type": "stream",
     "text": [
      "<class 'pandas.core.frame.DataFrame'>\n",
      "Int64Index: 661940 entries, 0 to 661939\n",
      "Data columns (total 52 columns):\n",
      "address_type                      629720 non-null object\n",
      "agency                            661940 non-null object\n",
      "agency_name                       661940 non-null object\n",
      "borough                           661940 non-null object\n",
      "bridge_highway_direction          1537 non-null object\n",
      "bridge_highway_name               1539 non-null object\n",
      "bridge_highway_segment            2643 non-null object\n",
      "city                              617041 non-null object\n",
      "closed_date                       602463 non-null datetime64[ns]\n",
      "community_board                   661940 non-null object\n",
      "complaint_type                    661940 non-null object\n",
      "created_date                      661940 non-null datetime64[ns]\n",
      "cross_street_1                    306412 non-null object\n",
      "cross_street_2                    304717 non-null object\n",
      "descriptor                        652753 non-null object\n",
      "due_date                          273178 non-null datetime64[ns]\n",
      "facility_type                     196243 non-null object\n",
      "ferry_direction                   163 non-null object\n",
      "ferry_terminal_name               441 non-null object\n",
      "garage_lot_name                   65 non-null object\n",
      "incident_address                  538590 non-null object\n",
      "incident_zip                      616989 non-null object\n",
      "intersection_street_1             80669 non-null object\n",
      "intersection_street_2             80395 non-null object\n",
      "landmark                          114 non-null object\n",
      "latitude                          598505 non-null float64\n",
      "location                          598505 non-null object\n",
      "location_type                     506414 non-null object\n",
      "longitude                         598505 non-null float64\n",
      "park_borough                      661940 non-null object\n",
      "park_facility_name                661940 non-null object\n",
      "resolution_action_updated_date    637905 non-null object\n",
      "resolution_description            650465 non-null object\n",
      "road_ramp                         1529 non-null object\n",
      "school_address                    661940 non-null object\n",
      "school_city                       661940 non-null object\n",
      "school_code                       659180 non-null object\n",
      "school_name                       661940 non-null object\n",
      "school_not_found                  274123 non-null object\n",
      "school_number                     661826 non-null object\n",
      "school_phone_number               661940 non-null object\n",
      "school_region                     659180 non-null object\n",
      "school_state                      661940 non-null object\n",
      "school_zip                        661940 non-null object\n",
      "status                            661940 non-null object\n",
      "street_name                       538559 non-null object\n",
      "taxi_company_borough              574 non-null object\n",
      "taxi_pick_up_location             2769 non-null object\n",
      "unique_key                        661940 non-null int64\n",
      "vehicle_type                      11 non-null object\n",
      "x_coordinate_state_plane          598505 non-null float64\n",
      "y_coordinate_state_plane          598505 non-null float64\n",
      "dtypes: datetime64[ns](3), float64(4), int64(1), object(44)\n",
      "memory usage: 267.7+ MB\n"
     ]
    }
   ],
   "source": [
    "df.info()"
   ]
  },
  {
   "cell_type": "code",
   "execution_count": 58,
   "metadata": {
    "collapsed": false,
    "deletable": true,
    "editable": true
   },
   "outputs": [
    {
     "data": {
      "text/html": [
       "<div>\n",
       "<table border=\"1\" class=\"dataframe\">\n",
       "  <thead>\n",
       "    <tr style=\"text-align: right;\">\n",
       "      <th></th>\n",
       "      <th>address_type</th>\n",
       "      <th>agency_name</th>\n",
       "      <th>borough</th>\n",
       "      <th>bridge_highway_direction</th>\n",
       "      <th>bridge_highway_name</th>\n",
       "      <th>bridge_highway_segment</th>\n",
       "      <th>city</th>\n",
       "      <th>cross_street_1</th>\n",
       "      <th>cross_street_2</th>\n",
       "      <th>descriptor</th>\n",
       "      <th>...</th>\n",
       "      <th>community_board_81 QUEENS</th>\n",
       "      <th>community_board_82 QUEENS</th>\n",
       "      <th>community_board_83 QUEENS</th>\n",
       "      <th>community_board_84 QUEENS</th>\n",
       "      <th>community_board_95 STATEN ISLAND</th>\n",
       "      <th>community_board_Unspecified BRONX</th>\n",
       "      <th>community_board_Unspecified BROOKLYN</th>\n",
       "      <th>community_board_Unspecified MANHATTAN</th>\n",
       "      <th>community_board_Unspecified QUEENS</th>\n",
       "      <th>community_board_Unspecified STATEN ISLAND</th>\n",
       "    </tr>\n",
       "  </thead>\n",
       "  <tbody>\n",
       "    <tr>\n",
       "      <th>0</th>\n",
       "      <td>ADDRESS</td>\n",
       "      <td>Department of Housing Preservation and Develop...</td>\n",
       "      <td>BRONX</td>\n",
       "      <td>NaN</td>\n",
       "      <td>NaN</td>\n",
       "      <td>NaN</td>\n",
       "      <td>BRONX</td>\n",
       "      <td>NaN</td>\n",
       "      <td>NaN</td>\n",
       "      <td>GARBAGE/RECYCLING STORAGE</td>\n",
       "      <td>...</td>\n",
       "      <td>0</td>\n",
       "      <td>0</td>\n",
       "      <td>0</td>\n",
       "      <td>0</td>\n",
       "      <td>0</td>\n",
       "      <td>0</td>\n",
       "      <td>0</td>\n",
       "      <td>0</td>\n",
       "      <td>0</td>\n",
       "      <td>0</td>\n",
       "    </tr>\n",
       "    <tr>\n",
       "      <th>1</th>\n",
       "      <td>ADDRESS</td>\n",
       "      <td>Department of Housing Preservation and Develop...</td>\n",
       "      <td>BROOKLYN</td>\n",
       "      <td>NaN</td>\n",
       "      <td>NaN</td>\n",
       "      <td>NaN</td>\n",
       "      <td>BROOKLYN</td>\n",
       "      <td>NaN</td>\n",
       "      <td>NaN</td>\n",
       "      <td>SEWAGE</td>\n",
       "      <td>...</td>\n",
       "      <td>0</td>\n",
       "      <td>0</td>\n",
       "      <td>0</td>\n",
       "      <td>0</td>\n",
       "      <td>0</td>\n",
       "      <td>0</td>\n",
       "      <td>0</td>\n",
       "      <td>0</td>\n",
       "      <td>0</td>\n",
       "      <td>0</td>\n",
       "    </tr>\n",
       "    <tr>\n",
       "      <th>2</th>\n",
       "      <td>ADDRESS</td>\n",
       "      <td>Department of Housing Preservation and Develop...</td>\n",
       "      <td>BROOKLYN</td>\n",
       "      <td>NaN</td>\n",
       "      <td>NaN</td>\n",
       "      <td>NaN</td>\n",
       "      <td>BROOKLYN</td>\n",
       "      <td>NaN</td>\n",
       "      <td>NaN</td>\n",
       "      <td>DOOR</td>\n",
       "      <td>...</td>\n",
       "      <td>0</td>\n",
       "      <td>0</td>\n",
       "      <td>0</td>\n",
       "      <td>0</td>\n",
       "      <td>0</td>\n",
       "      <td>0</td>\n",
       "      <td>0</td>\n",
       "      <td>0</td>\n",
       "      <td>0</td>\n",
       "      <td>0</td>\n",
       "    </tr>\n",
       "    <tr>\n",
       "      <th>3</th>\n",
       "      <td>ADDRESS</td>\n",
       "      <td>Department of Housing Preservation and Develop...</td>\n",
       "      <td>QUEENS</td>\n",
       "      <td>NaN</td>\n",
       "      <td>NaN</td>\n",
       "      <td>NaN</td>\n",
       "      <td>Jamaica</td>\n",
       "      <td>NaN</td>\n",
       "      <td>NaN</td>\n",
       "      <td>DOOR</td>\n",
       "      <td>...</td>\n",
       "      <td>0</td>\n",
       "      <td>0</td>\n",
       "      <td>0</td>\n",
       "      <td>0</td>\n",
       "      <td>0</td>\n",
       "      <td>0</td>\n",
       "      <td>0</td>\n",
       "      <td>0</td>\n",
       "      <td>0</td>\n",
       "      <td>0</td>\n",
       "    </tr>\n",
       "    <tr>\n",
       "      <th>4</th>\n",
       "      <td>ADDRESS</td>\n",
       "      <td>Department of Health and Mental Hygiene</td>\n",
       "      <td>BRONX</td>\n",
       "      <td>NaN</td>\n",
       "      <td>NaN</td>\n",
       "      <td>NaN</td>\n",
       "      <td>BRONX</td>\n",
       "      <td>WEST KINGSBRIDGE ROAD</td>\n",
       "      <td>EAMES PLACE</td>\n",
       "      <td>Chemical Vapors/Gases/Odors</td>\n",
       "      <td>...</td>\n",
       "      <td>0</td>\n",
       "      <td>0</td>\n",
       "      <td>0</td>\n",
       "      <td>0</td>\n",
       "      <td>0</td>\n",
       "      <td>0</td>\n",
       "      <td>0</td>\n",
       "      <td>0</td>\n",
       "      <td>0</td>\n",
       "      <td>0</td>\n",
       "    </tr>\n",
       "  </tbody>\n",
       "</table>\n",
       "<p>5 rows × 764 columns</p>\n",
       "</div>"
      ],
      "text/plain": [
       "  address_type                                        agency_name   borough  \\\n",
       "0      ADDRESS  Department of Housing Preservation and Develop...     BRONX   \n",
       "1      ADDRESS  Department of Housing Preservation and Develop...  BROOKLYN   \n",
       "2      ADDRESS  Department of Housing Preservation and Develop...  BROOKLYN   \n",
       "3      ADDRESS  Department of Housing Preservation and Develop...    QUEENS   \n",
       "4      ADDRESS            Department of Health and Mental Hygiene     BRONX   \n",
       "\n",
       "  bridge_highway_direction bridge_highway_name bridge_highway_segment  \\\n",
       "0                      NaN                 NaN                    NaN   \n",
       "1                      NaN                 NaN                    NaN   \n",
       "2                      NaN                 NaN                    NaN   \n",
       "3                      NaN                 NaN                    NaN   \n",
       "4                      NaN                 NaN                    NaN   \n",
       "\n",
       "       city         cross_street_1 cross_street_2  \\\n",
       "0     BRONX                    NaN            NaN   \n",
       "1  BROOKLYN                    NaN            NaN   \n",
       "2  BROOKLYN                    NaN            NaN   \n",
       "3   Jamaica                    NaN            NaN   \n",
       "4     BRONX  WEST KINGSBRIDGE ROAD    EAMES PLACE   \n",
       "\n",
       "                    descriptor                    ...                      \\\n",
       "0    GARBAGE/RECYCLING STORAGE                    ...                       \n",
       "1                       SEWAGE                    ...                       \n",
       "2                         DOOR                    ...                       \n",
       "3                         DOOR                    ...                       \n",
       "4  Chemical Vapors/Gases/Odors                    ...                       \n",
       "\n",
       "  community_board_81 QUEENS community_board_82 QUEENS  \\\n",
       "0                         0                         0   \n",
       "1                         0                         0   \n",
       "2                         0                         0   \n",
       "3                         0                         0   \n",
       "4                         0                         0   \n",
       "\n",
       "  community_board_83 QUEENS community_board_84 QUEENS  \\\n",
       "0                         0                         0   \n",
       "1                         0                         0   \n",
       "2                         0                         0   \n",
       "3                         0                         0   \n",
       "4                         0                         0   \n",
       "\n",
       "  community_board_95 STATEN ISLAND community_board_Unspecified BRONX  \\\n",
       "0                                0                                 0   \n",
       "1                                0                                 0   \n",
       "2                                0                                 0   \n",
       "3                                0                                 0   \n",
       "4                                0                                 0   \n",
       "\n",
       "  community_board_Unspecified BROOKLYN community_board_Unspecified MANHATTAN  \\\n",
       "0                                    0                                     0   \n",
       "1                                    0                                     0   \n",
       "2                                    0                                     0   \n",
       "3                                    0                                     0   \n",
       "4                                    0                                     0   \n",
       "\n",
       "  community_board_Unspecified QUEENS  \\\n",
       "0                                  0   \n",
       "1                                  0   \n",
       "2                                  0   \n",
       "3                                  0   \n",
       "4                                  0   \n",
       "\n",
       "   community_board_Unspecified STATEN ISLAND  \n",
       "0                                          0  \n",
       "1                                          0  \n",
       "2                                          0  \n",
       "3                                          0  \n",
       "4                                          0  \n",
       "\n",
       "[5 rows x 764 columns]"
      ]
     },
     "execution_count": 58,
     "metadata": {},
     "output_type": "execute_result"
    }
   ],
   "source": [
    "(X, y) = transformers.get_sample_target_data(df)\n",
    "X.head()"
   ]
  },
  {
   "cell_type": "code",
   "execution_count": 35,
   "metadata": {
    "collapsed": false,
    "deletable": true,
    "editable": true
   },
   "outputs": [
    {
     "data": {
      "text/plain": [
       "2 - 7 days     135643\n",
       "1 - 3 hrs       76311\n",
       "1 - 4 weeks     67911\n",
       "3 - 6 hrs       54435\n",
       "12 - 24 hrs     54394\n",
       "< 1 hr          52663\n",
       "24 - 36 hrs     37912\n",
       "6 - 12 hrs      37459\n",
       "36 - 48 hrs     29307\n",
       "> 4 weeks       20810\n",
       "dtype: int64"
      ]
     },
     "execution_count": 35,
     "metadata": {},
     "output_type": "execute_result"
    }
   ],
   "source": [
    "y.value_counts()"
   ]
  },
  {
   "cell_type": "code",
   "execution_count": 41,
   "metadata": {
    "collapsed": false,
    "deletable": true,
    "editable": true,
    "scrolled": true
   },
   "outputs": [],
   "source": [
    "from sklearn.model_selection import train_test_split\n",
    "from sklearn.linear_model import SGDClassifier"
   ]
  },
  {
   "cell_type": "code",
   "execution_count": 59,
   "metadata": {
    "collapsed": false
   },
   "outputs": [
    {
     "ename": "ValueError",
     "evalue": "could not convert string to float: 'Closed'",
     "output_type": "error",
     "traceback": [
      "\u001b[0;31m---------------------------------------------------------------------------\u001b[0m",
      "\u001b[0;31mValueError\u001b[0m                                Traceback (most recent call last)",
      "\u001b[0;32m<ipython-input-59-251c26fac6eb>\u001b[0m in \u001b[0;36m<module>\u001b[0;34m()\u001b[0m\n\u001b[1;32m      2\u001b[0m \u001b[0mX_train\u001b[0m\u001b[0;34m,\u001b[0m \u001b[0mX_test\u001b[0m\u001b[0;34m,\u001b[0m \u001b[0my_train\u001b[0m\u001b[0;34m,\u001b[0m \u001b[0my_test\u001b[0m \u001b[0;34m=\u001b[0m \u001b[0mtrain_test_split\u001b[0m\u001b[0;34m(\u001b[0m\u001b[0mX\u001b[0m\u001b[0;34m,\u001b[0m \u001b[0my\u001b[0m\u001b[0;34m)\u001b[0m\u001b[0;34m\u001b[0m\u001b[0m\n\u001b[1;32m      3\u001b[0m \u001b[0mclf\u001b[0m \u001b[0;34m=\u001b[0m \u001b[0mSGDClassifier\u001b[0m\u001b[0;34m(\u001b[0m\u001b[0mloss\u001b[0m\u001b[0;34m=\u001b[0m\u001b[0;34m\"hinge\"\u001b[0m\u001b[0;34m,\u001b[0m \u001b[0mpenalty\u001b[0m\u001b[0;34m=\u001b[0m\u001b[0;34m\"l2\"\u001b[0m\u001b[0;34m)\u001b[0m\u001b[0;34m\u001b[0m\u001b[0m\n\u001b[0;32m----> 4\u001b[0;31m \u001b[0mclf\u001b[0m\u001b[0;34m.\u001b[0m\u001b[0mfit\u001b[0m\u001b[0;34m(\u001b[0m\u001b[0mX_train\u001b[0m\u001b[0;34m,\u001b[0m \u001b[0my_train\u001b[0m\u001b[0;34m)\u001b[0m\u001b[0;34m\u001b[0m\u001b[0m\n\u001b[0m",
      "\u001b[0;32m/Users/Alexandra/anaconda3/lib/python3.6/site-packages/sklearn/linear_model/stochastic_gradient.py\u001b[0m in \u001b[0;36mfit\u001b[0;34m(self, X, y, coef_init, intercept_init, sample_weight)\u001b[0m\n\u001b[1;32m    543\u001b[0m                          \u001b[0mloss\u001b[0m\u001b[0;34m=\u001b[0m\u001b[0mself\u001b[0m\u001b[0;34m.\u001b[0m\u001b[0mloss\u001b[0m\u001b[0;34m,\u001b[0m \u001b[0mlearning_rate\u001b[0m\u001b[0;34m=\u001b[0m\u001b[0mself\u001b[0m\u001b[0;34m.\u001b[0m\u001b[0mlearning_rate\u001b[0m\u001b[0;34m,\u001b[0m\u001b[0;34m\u001b[0m\u001b[0m\n\u001b[1;32m    544\u001b[0m                          \u001b[0mcoef_init\u001b[0m\u001b[0;34m=\u001b[0m\u001b[0mcoef_init\u001b[0m\u001b[0;34m,\u001b[0m \u001b[0mintercept_init\u001b[0m\u001b[0;34m=\u001b[0m\u001b[0mintercept_init\u001b[0m\u001b[0;34m,\u001b[0m\u001b[0;34m\u001b[0m\u001b[0m\n\u001b[0;32m--> 545\u001b[0;31m                          sample_weight=sample_weight)\n\u001b[0m\u001b[1;32m    546\u001b[0m \u001b[0;34m\u001b[0m\u001b[0m\n\u001b[1;32m    547\u001b[0m \u001b[0;34m\u001b[0m\u001b[0m\n",
      "\u001b[0;32m/Users/Alexandra/anaconda3/lib/python3.6/site-packages/sklearn/linear_model/stochastic_gradient.py\u001b[0m in \u001b[0;36m_fit\u001b[0;34m(self, X, y, alpha, C, loss, learning_rate, coef_init, intercept_init, sample_weight)\u001b[0m\n\u001b[1;32m    387\u001b[0m             \u001b[0mself\u001b[0m\u001b[0;34m.\u001b[0m\u001b[0mclasses_\u001b[0m \u001b[0;34m=\u001b[0m \u001b[0;32mNone\u001b[0m\u001b[0;34m\u001b[0m\u001b[0m\n\u001b[1;32m    388\u001b[0m \u001b[0;34m\u001b[0m\u001b[0m\n\u001b[0;32m--> 389\u001b[0;31m         \u001b[0mX\u001b[0m\u001b[0;34m,\u001b[0m \u001b[0my\u001b[0m \u001b[0;34m=\u001b[0m \u001b[0mcheck_X_y\u001b[0m\u001b[0;34m(\u001b[0m\u001b[0mX\u001b[0m\u001b[0;34m,\u001b[0m \u001b[0my\u001b[0m\u001b[0;34m,\u001b[0m \u001b[0;34m'csr'\u001b[0m\u001b[0;34m,\u001b[0m \u001b[0mdtype\u001b[0m\u001b[0;34m=\u001b[0m\u001b[0mnp\u001b[0m\u001b[0;34m.\u001b[0m\u001b[0mfloat64\u001b[0m\u001b[0;34m,\u001b[0m \u001b[0morder\u001b[0m\u001b[0;34m=\u001b[0m\u001b[0;34m\"C\"\u001b[0m\u001b[0;34m)\u001b[0m\u001b[0;34m\u001b[0m\u001b[0m\n\u001b[0m\u001b[1;32m    390\u001b[0m         \u001b[0mn_samples\u001b[0m\u001b[0;34m,\u001b[0m \u001b[0mn_features\u001b[0m \u001b[0;34m=\u001b[0m \u001b[0mX\u001b[0m\u001b[0;34m.\u001b[0m\u001b[0mshape\u001b[0m\u001b[0;34m\u001b[0m\u001b[0m\n\u001b[1;32m    391\u001b[0m \u001b[0;34m\u001b[0m\u001b[0m\n",
      "\u001b[0;32m/Users/Alexandra/anaconda3/lib/python3.6/site-packages/sklearn/utils/validation.py\u001b[0m in \u001b[0;36mcheck_X_y\u001b[0;34m(X, y, accept_sparse, dtype, order, copy, force_all_finite, ensure_2d, allow_nd, multi_output, ensure_min_samples, ensure_min_features, y_numeric, warn_on_dtype, estimator)\u001b[0m\n\u001b[1;32m    519\u001b[0m     X = check_array(X, accept_sparse, dtype, order, copy, force_all_finite,\n\u001b[1;32m    520\u001b[0m                     \u001b[0mensure_2d\u001b[0m\u001b[0;34m,\u001b[0m \u001b[0mallow_nd\u001b[0m\u001b[0;34m,\u001b[0m \u001b[0mensure_min_samples\u001b[0m\u001b[0;34m,\u001b[0m\u001b[0;34m\u001b[0m\u001b[0m\n\u001b[0;32m--> 521\u001b[0;31m                     ensure_min_features, warn_on_dtype, estimator)\n\u001b[0m\u001b[1;32m    522\u001b[0m     \u001b[0;32mif\u001b[0m \u001b[0mmulti_output\u001b[0m\u001b[0;34m:\u001b[0m\u001b[0;34m\u001b[0m\u001b[0m\n\u001b[1;32m    523\u001b[0m         y = check_array(y, 'csr', force_all_finite=True, ensure_2d=False,\n",
      "\u001b[0;32m/Users/Alexandra/anaconda3/lib/python3.6/site-packages/sklearn/utils/validation.py\u001b[0m in \u001b[0;36mcheck_array\u001b[0;34m(array, accept_sparse, dtype, order, copy, force_all_finite, ensure_2d, allow_nd, ensure_min_samples, ensure_min_features, warn_on_dtype, estimator)\u001b[0m\n\u001b[1;32m    380\u001b[0m                                       force_all_finite)\n\u001b[1;32m    381\u001b[0m     \u001b[0;32melse\u001b[0m\u001b[0;34m:\u001b[0m\u001b[0;34m\u001b[0m\u001b[0m\n\u001b[0;32m--> 382\u001b[0;31m         \u001b[0marray\u001b[0m \u001b[0;34m=\u001b[0m \u001b[0mnp\u001b[0m\u001b[0;34m.\u001b[0m\u001b[0marray\u001b[0m\u001b[0;34m(\u001b[0m\u001b[0marray\u001b[0m\u001b[0;34m,\u001b[0m \u001b[0mdtype\u001b[0m\u001b[0;34m=\u001b[0m\u001b[0mdtype\u001b[0m\u001b[0;34m,\u001b[0m \u001b[0morder\u001b[0m\u001b[0;34m=\u001b[0m\u001b[0morder\u001b[0m\u001b[0;34m,\u001b[0m \u001b[0mcopy\u001b[0m\u001b[0;34m=\u001b[0m\u001b[0mcopy\u001b[0m\u001b[0;34m)\u001b[0m\u001b[0;34m\u001b[0m\u001b[0m\n\u001b[0m\u001b[1;32m    383\u001b[0m \u001b[0;34m\u001b[0m\u001b[0m\n\u001b[1;32m    384\u001b[0m         \u001b[0;32mif\u001b[0m \u001b[0mensure_2d\u001b[0m\u001b[0;34m:\u001b[0m\u001b[0;34m\u001b[0m\u001b[0m\n",
      "\u001b[0;31mValueError\u001b[0m: could not convert string to float: 'Closed'"
     ]
    }
   ],
   "source": [
    "# 75/25 training/test split\n",
    "X_train, X_test, y_train, y_test = train_test_split(X, y)\n",
    "clf = SGDClassifier(loss=\"hinge\", penalty=\"l2\")\n",
    "clf.fit(X_train, y_train)"
   ]
  },
  {
   "cell_type": "code",
   "execution_count": 40,
   "metadata": {
    "collapsed": false,
    "deletable": true,
    "editable": true,
    "scrolled": true
   },
   "outputs": [
    {
     "data": {
      "text/html": [
       "<div>\n",
       "<table border=\"1\" class=\"dataframe\">\n",
       "  <thead>\n",
       "    <tr style=\"text-align: right;\">\n",
       "      <th></th>\n",
       "      <th>address_type</th>\n",
       "      <th>agency</th>\n",
       "      <th>agency_name</th>\n",
       "      <th>borough</th>\n",
       "      <th>bridge_highway_direction</th>\n",
       "      <th>bridge_highway_name</th>\n",
       "      <th>bridge_highway_segment</th>\n",
       "      <th>city</th>\n",
       "      <th>community_board</th>\n",
       "      <th>complaint_type</th>\n",
       "      <th>...</th>\n",
       "      <th>community_board_81 QUEENS</th>\n",
       "      <th>community_board_82 QUEENS</th>\n",
       "      <th>community_board_83 QUEENS</th>\n",
       "      <th>community_board_84 QUEENS</th>\n",
       "      <th>community_board_95 STATEN ISLAND</th>\n",
       "      <th>community_board_Unspecified BRONX</th>\n",
       "      <th>community_board_Unspecified BROOKLYN</th>\n",
       "      <th>community_board_Unspecified MANHATTAN</th>\n",
       "      <th>community_board_Unspecified QUEENS</th>\n",
       "      <th>community_board_Unspecified STATEN ISLAND</th>\n",
       "    </tr>\n",
       "  </thead>\n",
       "  <tbody>\n",
       "    <tr>\n",
       "      <th>311335</th>\n",
       "      <td>ADDRESS</td>\n",
       "      <td>HPD</td>\n",
       "      <td>Department of Housing Preservation and Develop...</td>\n",
       "      <td>BRONX</td>\n",
       "      <td>NaN</td>\n",
       "      <td>NaN</td>\n",
       "      <td>NaN</td>\n",
       "      <td>BRONX</td>\n",
       "      <td>09 BRONX</td>\n",
       "      <td>HEAT/HOT WATER</td>\n",
       "      <td>...</td>\n",
       "      <td>0</td>\n",
       "      <td>0</td>\n",
       "      <td>0</td>\n",
       "      <td>0</td>\n",
       "      <td>0</td>\n",
       "      <td>0</td>\n",
       "      <td>0</td>\n",
       "      <td>0</td>\n",
       "      <td>0</td>\n",
       "      <td>0</td>\n",
       "    </tr>\n",
       "    <tr>\n",
       "      <th>302746</th>\n",
       "      <td>BLOCKFACE</td>\n",
       "      <td>DOT</td>\n",
       "      <td>Department of Transportation</td>\n",
       "      <td>QUEENS</td>\n",
       "      <td>NaN</td>\n",
       "      <td>NaN</td>\n",
       "      <td>NaN</td>\n",
       "      <td>Jamaica</td>\n",
       "      <td>12 QUEENS</td>\n",
       "      <td>Street Condition</td>\n",
       "      <td>...</td>\n",
       "      <td>0</td>\n",
       "      <td>0</td>\n",
       "      <td>0</td>\n",
       "      <td>0</td>\n",
       "      <td>0</td>\n",
       "      <td>0</td>\n",
       "      <td>0</td>\n",
       "      <td>0</td>\n",
       "      <td>0</td>\n",
       "      <td>0</td>\n",
       "    </tr>\n",
       "    <tr>\n",
       "      <th>602670</th>\n",
       "      <td>ADDRESS</td>\n",
       "      <td>HPD</td>\n",
       "      <td>Department of Housing Preservation and Develop...</td>\n",
       "      <td>BROOKLYN</td>\n",
       "      <td>NaN</td>\n",
       "      <td>NaN</td>\n",
       "      <td>NaN</td>\n",
       "      <td>BROOKLYN</td>\n",
       "      <td>14 BROOKLYN</td>\n",
       "      <td>PLUMBING</td>\n",
       "      <td>...</td>\n",
       "      <td>0</td>\n",
       "      <td>0</td>\n",
       "      <td>0</td>\n",
       "      <td>0</td>\n",
       "      <td>0</td>\n",
       "      <td>0</td>\n",
       "      <td>0</td>\n",
       "      <td>0</td>\n",
       "      <td>0</td>\n",
       "      <td>0</td>\n",
       "    </tr>\n",
       "    <tr>\n",
       "      <th>414136</th>\n",
       "      <td>ADDRESS</td>\n",
       "      <td>DSNY</td>\n",
       "      <td>BCC - Queens East</td>\n",
       "      <td>QUEENS</td>\n",
       "      <td>NaN</td>\n",
       "      <td>NaN</td>\n",
       "      <td>NaN</td>\n",
       "      <td>Oakland Gardens</td>\n",
       "      <td>11 QUEENS</td>\n",
       "      <td>Request Xmas Tree Collection</td>\n",
       "      <td>...</td>\n",
       "      <td>0</td>\n",
       "      <td>0</td>\n",
       "      <td>0</td>\n",
       "      <td>0</td>\n",
       "      <td>0</td>\n",
       "      <td>0</td>\n",
       "      <td>0</td>\n",
       "      <td>0</td>\n",
       "      <td>0</td>\n",
       "      <td>0</td>\n",
       "    </tr>\n",
       "    <tr>\n",
       "      <th>453576</th>\n",
       "      <td>ADDRESS</td>\n",
       "      <td>HPD</td>\n",
       "      <td>Department of Housing Preservation and Develop...</td>\n",
       "      <td>MANHATTAN</td>\n",
       "      <td>NaN</td>\n",
       "      <td>NaN</td>\n",
       "      <td>NaN</td>\n",
       "      <td>NEW YORK</td>\n",
       "      <td>05 MANHATTAN</td>\n",
       "      <td>HEAT/HOT WATER</td>\n",
       "      <td>...</td>\n",
       "      <td>0</td>\n",
       "      <td>0</td>\n",
       "      <td>0</td>\n",
       "      <td>0</td>\n",
       "      <td>0</td>\n",
       "      <td>0</td>\n",
       "      <td>0</td>\n",
       "      <td>0</td>\n",
       "      <td>0</td>\n",
       "      <td>0</td>\n",
       "    </tr>\n",
       "  </tbody>\n",
       "</table>\n",
       "<p>5 rows × 839 columns</p>\n",
       "</div>"
      ],
      "text/plain": [
       "       address_type agency                                        agency_name  \\\n",
       "311335      ADDRESS    HPD  Department of Housing Preservation and Develop...   \n",
       "302746    BLOCKFACE    DOT                       Department of Transportation   \n",
       "602670      ADDRESS    HPD  Department of Housing Preservation and Develop...   \n",
       "414136      ADDRESS   DSNY                                  BCC - Queens East   \n",
       "453576      ADDRESS    HPD  Department of Housing Preservation and Develop...   \n",
       "\n",
       "          borough bridge_highway_direction bridge_highway_name  \\\n",
       "311335      BRONX                      NaN                 NaN   \n",
       "302746     QUEENS                      NaN                 NaN   \n",
       "602670   BROOKLYN                      NaN                 NaN   \n",
       "414136     QUEENS                      NaN                 NaN   \n",
       "453576  MANHATTAN                      NaN                 NaN   \n",
       "\n",
       "       bridge_highway_segment             city community_board  \\\n",
       "311335                    NaN            BRONX        09 BRONX   \n",
       "302746                    NaN          Jamaica       12 QUEENS   \n",
       "602670                    NaN         BROOKLYN     14 BROOKLYN   \n",
       "414136                    NaN  Oakland Gardens       11 QUEENS   \n",
       "453576                    NaN         NEW YORK    05 MANHATTAN   \n",
       "\n",
       "                      complaint_type  \\\n",
       "311335                HEAT/HOT WATER   \n",
       "302746              Street Condition   \n",
       "602670                      PLUMBING   \n",
       "414136  Request Xmas Tree Collection   \n",
       "453576                HEAT/HOT WATER   \n",
       "\n",
       "                          ...                    community_board_81 QUEENS  \\\n",
       "311335                    ...                                            0   \n",
       "302746                    ...                                            0   \n",
       "602670                    ...                                            0   \n",
       "414136                    ...                                            0   \n",
       "453576                    ...                                            0   \n",
       "\n",
       "       community_board_82 QUEENS community_board_83 QUEENS  \\\n",
       "311335                         0                         0   \n",
       "302746                         0                         0   \n",
       "602670                         0                         0   \n",
       "414136                         0                         0   \n",
       "453576                         0                         0   \n",
       "\n",
       "       community_board_84 QUEENS community_board_95 STATEN ISLAND  \\\n",
       "311335                         0                                0   \n",
       "302746                         0                                0   \n",
       "602670                         0                                0   \n",
       "414136                         0                                0   \n",
       "453576                         0                                0   \n",
       "\n",
       "       community_board_Unspecified BRONX community_board_Unspecified BROOKLYN  \\\n",
       "311335                                 0                                    0   \n",
       "302746                                 0                                    0   \n",
       "602670                                 0                                    0   \n",
       "414136                                 0                                    0   \n",
       "453576                                 0                                    0   \n",
       "\n",
       "       community_board_Unspecified MANHATTAN  \\\n",
       "311335                                     0   \n",
       "302746                                     0   \n",
       "602670                                     0   \n",
       "414136                                     0   \n",
       "453576                                     0   \n",
       "\n",
       "       community_board_Unspecified QUEENS  \\\n",
       "311335                                  0   \n",
       "302746                                  0   \n",
       "602670                                  0   \n",
       "414136                                  0   \n",
       "453576                                  0   \n",
       "\n",
       "       community_board_Unspecified STATEN ISLAND  \n",
       "311335                                         0  \n",
       "302746                                         0  \n",
       "602670                                         0  \n",
       "414136                                         0  \n",
       "453576                                         0  \n",
       "\n",
       "[5 rows x 839 columns]"
      ]
     },
     "execution_count": 40,
     "metadata": {},
     "output_type": "execute_result"
    }
   ],
   "source": [
    "clf.score(X_test, y_test)"
   ]
  },
  {
   "cell_type": "code",
   "execution_count": null,
   "metadata": {
    "collapsed": true,
    "deletable": true,
    "editable": true
   },
   "outputs": [],
   "source": []
  }
 ],
 "metadata": {
  "kernelspec": {
   "display_name": "Python 3",
   "language": "python",
   "name": "python3"
  },
  "language_info": {
   "codemirror_mode": {
    "name": "ipython",
    "version": 3
   },
   "file_extension": ".py",
   "mimetype": "text/x-python",
   "name": "python",
   "nbconvert_exporter": "python",
   "pygments_lexer": "ipython3",
   "version": "3.6.0"
  }
 },
 "nbformat": 4,
 "nbformat_minor": 2
}
